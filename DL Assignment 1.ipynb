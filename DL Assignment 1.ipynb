{
 "cells": [
  {
   "cell_type": "markdown",
   "metadata": {},
   "source": [
    "# Deep learning homework assignment 1\n",
    "## Juntao Dong"
   ]
  },
  {
   "cell_type": "markdown",
   "metadata": {},
   "source": [
    "### 1. Fetch MNIST dataset from mldata.org"
   ]
  },
  {
   "cell_type": "code",
   "execution_count": 1,
   "metadata": {
    "collapsed": true
   },
   "outputs": [],
   "source": [
    "from sklearn.datasets import fetch_mldata\n",
    "mnist = fetch_mldata('MNIST original')\n",
    "X, y = mnist[\"data\"], mnist[\"target\"]\n",
    "X_train, X_test, y_train, y_test = X[:60000], X[60000:], y[:60000], y[60000:]"
   ]
  },
  {
   "cell_type": "markdown",
   "metadata": {},
   "source": [
    "### 2. Show the original images of some digits"
   ] 
  },
  {
   "cell_type": "code",
   "execution_count": 2,
   "metadata": {},
   "outputs": [
    {
     "data": {
      "image/png": "[encoded data removed]",
      "text/plain": [
       "<matplotlib.figure.Figure at 0x26233edfe10>"
      ]
     },
     "metadata": {},
     "output_type": "display_data"
    }
   ],
   "source": [
    "import matplotlib\n",
    "import matplotlib.pyplot as plt\n",
    "\n",
    "some_digit = X[36000]\n",
    "some_digit_image = some_digit.reshape(28, 28)\n",
    "\n",
    "plt.imshow(some_digit_image, cmap = matplotlib.cm.binary, interpolation= \"nearest\")\n",
    "plt.axis(\"off\")\n",
    "plt.show()"
   ]
  },
  {
   "cell_type": "markdown",
   "metadata": {},
   "source": [
    "### 3. Using Scikit-Learn for PCA and show the reconstruction result"
   ]
  },
  {
   "cell_type": "code",
   "execution_count": 3,
   "metadata": {
    "scrolled": true
   },
   "outputs": [
    {
     "data": {
      "image/png": "[encoded data removed]",
      "text/plain": [
       "<matplotlib.figure.Figure at 0x262392efc88>"
      ]
     },
     "metadata": {},
     "output_type": "display_data"
    }
   ],
   "source": [
    "from sklearn.decomposition import PCA\n",
    "\n",
    "pca = PCA(n_components = 154)\n",
    "X_reduced = pca.fit_transform(X_train) #code c\n",
    "X_recovered = pca.inverse_transform(X_reduced)\n",
    "new_digit = X_recovered[36000]\n",
    "new_digit_image = new_digit.reshape(28, 28)\n",
    "plt.imshow(new_digit_image, cmap = matplotlib.cm.binary, interpolation= \"nearest\")\n",
    "plt.axis(\"off\")\n",
    "plt.show()"
   ]
  },
  {
   "cell_type": "markdown",
   "metadata": {},
   "source": [
    "### 4. Show the code c for the image"
   ]
  },
  {
   "cell_type": "code",
   "execution_count": 4,
   "metadata": {},
   "outputs": [
    {
     "name": "stdout",
     "output_type": "stream",
     "text": [
      "[ -8.21489293e+01  -1.10680487e+02   7.13558531e+02  -4.32555797e+02\n",
      "  -4.03333706e+02  -4.10556020e+01   3.61898081e+00   8.57479171e+02\n",
      "   3.04243032e+02   1.22470987e+02  -4.25107116e+01   1.05481444e+02\n",
      "  -3.82893907e+01   9.25259973e+01   6.53462640e+02   9.18033423e+01\n",
      "  -2.07857525e+02  -1.94510708e+02  -9.77780250e+01   2.49264052e+02\n",
      "  -5.59270196e+01   1.11397660e+02   6.15275380e+00   2.75874551e+01\n",
      "  -7.39309319e+01  -2.02304697e+02  -4.54476667e+01   2.51601401e+02\n",
      "   3.49368195e+02  -1.51186015e+02  -4.08379157e+02   2.06232662e+01\n",
      "   1.83626058e+01   2.05619763e+01   2.35047713e+02  -3.06112307e+01\n",
      "   8.69283264e+01  -1.95873208e+02   1.11936262e+02   4.67636842e+01\n",
      "   1.05517712e+02   1.51187210e+02  -1.91321598e+02   7.86300414e+01\n",
      "  -1.18177583e+02   2.31626909e+02  -1.06139055e+02  -1.40834067e+02\n",
      "  -1.40274824e+01   8.75840040e+01  -1.59869464e+01  -1.67786750e+02\n",
      "   5.90612593e+01   6.68151366e+01  -6.25700684e+01  -1.07635939e+02\n",
      "   7.62806992e+01  -6.93591033e+01   2.58355342e+01   1.34358685e+02\n",
      "   1.33340332e+01   1.19446243e+02   1.70941107e+02  -1.25939178e+02\n",
      "   1.48281484e+01  -1.61876445e+02   5.99363232e+00   9.13479949e+01\n",
      "   9.35396563e+01  -3.78829623e+01  -1.82730599e+02  -3.71959027e+01\n",
      "   1.33938254e+02  -1.16197521e+02   1.81999741e+00  -1.45444238e+02\n",
      "  -1.52336860e+02   2.23388631e+01   6.42033830e+01   2.30460053e+01\n",
      "   2.44007242e+01   1.06278797e+02  -5.99026060e+01   8.87359621e-01\n",
      "   4.19209109e+01   6.69619218e+01  -1.19393310e+02   2.43084917e+00\n",
      "  -8.09624181e+01   4.00087257e+01   4.62146013e+01  -3.41135097e+01\n",
      "  -9.42428849e+00  -5.73333807e+00  -4.43233247e+01   4.62724103e+01\n",
      "   8.15754741e+01   3.67418292e+01  -1.99385612e+01  -2.31148616e+01\n",
      "   4.09358847e+01  -5.13806228e-01   1.06171581e+01  -7.65290254e+01\n",
      "   4.49487899e+01   4.90332498e+01   2.01932856e+01  -1.26505680e+01\n",
      "   9.69047142e+00   5.73938354e+01  -2.32452341e+01   4.48958108e+00\n",
      "   3.40382862e+00   4.22448559e+01  -7.54361720e+00   1.22691217e+02\n",
      "   5.79788222e+01   1.96209705e+01  -7.05436931e+01  -2.80950587e+01\n",
      "  -6.68837962e+01   1.13165510e+00   4.38166396e+01  -1.58184549e+01\n",
      "   1.76581333e+01   6.49885073e+01   9.12408902e+00  -5.48160257e+01\n",
      "  -6.45523610e+01  -2.37778915e+01   1.86357842e+01   1.28699436e+01\n",
      "  -2.33491260e+01  -3.48533844e+01  -8.14630814e+00   3.74415567e+01\n",
      "  -8.01297553e+01   3.45316959e+01   3.32212532e+01   2.83314203e+01\n",
      "   7.86890565e+00   1.36735886e+00   4.73227573e+01   2.20927945e+01\n",
      "  -5.51145736e+00  -3.46338234e+01  -8.15205641e+01  -1.81526837e+01\n",
      "   1.01472893e+01   2.41631610e+01   5.77372727e+00  -6.05640952e+01\n",
      "  -6.53569174e+00  -7.18275348e+01]\n"
     ]
    }
   ],
   "source": [
    "print(X_reduced[36000])"
   ]
  },
  {
   "cell_type": "markdown",
   "metadata": {},
   "source": [
    "#### The feature of the code c elements is obvious. The number of bits for the elements are too many and therefore take too much memory to run the program."
   ]
  },
  {
   "cell_type": "markdown",
   "metadata": {},
   "source": [
    "### 5. Reduce the number of bits for code c to a few bits and see the reconstruction"
   ]
  },
  {
   "cell_type": "code",
   "execution_count": 5,
   "metadata": {},
   "outputs": [
    {
     "name": "stdout",
     "output_type": "stream",
     "text": [
      "[ -8.22500000e+01  -1.10750000e+02   7.13500000e+02  -4.32500000e+02\n",
      "  -4.03250000e+02  -4.10000000e+01   3.50000000e+00   8.57500000e+02\n",
      "   3.04250000e+02   1.22500000e+02  -4.25000000e+01   1.05500000e+02\n",
      "  -3.82500000e+01   9.25000000e+01   6.53500000e+02   9.17500000e+01\n",
      "  -2.07750000e+02  -1.94500000e+02  -9.77500000e+01   2.49250000e+02\n",
      "  -5.60000000e+01   1.11500000e+02   6.25000000e+00   2.75000000e+01\n",
      "  -7.40000000e+01  -2.02250000e+02  -4.55000000e+01   2.51500000e+02\n",
      "   3.49250000e+02  -1.51250000e+02  -4.08500000e+02   2.05000000e+01\n",
      "   1.82500000e+01   2.05000000e+01   2.35000000e+02  -3.05000000e+01\n",
      "   8.70000000e+01  -1.95750000e+02   1.12000000e+02   4.67500000e+01\n",
      "   1.05500000e+02   1.51250000e+02  -1.91250000e+02   7.87500000e+01\n",
      "  -1.18250000e+02   2.31750000e+02  -1.06250000e+02  -1.40750000e+02\n",
      "  -1.40000000e+01   8.75000000e+01  -1.60000000e+01  -1.67750000e+02\n",
      "   5.90000000e+01   6.67500000e+01  -6.25000000e+01  -1.07750000e+02\n",
      "   7.62500000e+01  -6.92500000e+01   2.57500000e+01   1.34250000e+02\n",
      "   1.32500000e+01   1.19500000e+02   1.71000000e+02  -1.26000000e+02\n",
      "   1.47500000e+01  -1.62000000e+02   6.00000000e+00   9.12500000e+01\n",
      "   9.35000000e+01  -3.80000000e+01  -1.82750000e+02  -3.72500000e+01\n",
      "   1.34000000e+02  -1.16250000e+02   1.75000000e+00  -1.45500000e+02\n",
      "  -1.52250000e+02   2.22500000e+01   6.42500000e+01   2.30000000e+01\n",
      "   2.45000000e+01   1.06250000e+02  -6.00000000e+01   1.00000000e+00\n",
      "   4.20000000e+01   6.70000000e+01  -1.19500000e+02   2.50000000e+00\n",
      "  -8.10000000e+01   4.00000000e+01   4.62500000e+01  -3.40000000e+01\n",
      "  -9.50000000e+00  -5.75000000e+00  -4.42500000e+01   4.62500000e+01\n",
      "   8.15000000e+01   3.67500000e+01  -2.00000000e+01  -2.30000000e+01\n",
      "   4.10000000e+01  -5.00000000e-01   1.05000000e+01  -7.65000000e+01\n",
      "   4.50000000e+01   4.90000000e+01   2.02500000e+01  -1.27500000e+01\n",
      "   9.75000000e+00   5.75000000e+01  -2.32500000e+01   4.50000000e+00\n",
      "   3.50000000e+00   4.22500000e+01  -7.50000000e+00   1.22750000e+02\n",
      "   5.80000000e+01   1.95000000e+01  -7.05000000e+01  -2.80000000e+01\n",
      "  -6.70000000e+01   1.25000000e+00   4.37500000e+01  -1.57500000e+01\n",
      "   1.77500000e+01   6.50000000e+01   9.00000000e+00  -5.47500000e+01\n",
      "  -6.45000000e+01  -2.37500000e+01   1.87500000e+01   1.27500000e+01\n",
      "  -2.32500000e+01  -3.47500000e+01  -8.25000000e+00   3.75000000e+01\n",
      "  -8.02500000e+01   3.45000000e+01   3.32500000e+01   2.82500000e+01\n",
      "   7.75000000e+00   1.25000000e+00   4.72500000e+01   2.20000000e+01\n",
      "  -5.50000000e+00  -3.47500000e+01  -8.15000000e+01  -1.82500000e+01\n",
      "   1.02500000e+01   2.42500000e+01   5.75000000e+00  -6.05000000e+01\n",
      "  -6.50000000e+00  -7.17500000e+01]\n"
     ]
    }
   ],
   "source": [
    "import numpy as np\n",
    "X_reduced_less = np.round(X_reduced * 4, 0) / 4.0\n",
    "print(X_reduced_less[36000])"
   ]
  },
  {
   "cell_type": "code",
   "execution_count": 6,
   "metadata": {},
   "outputs": [
    {
     "data": {
      "image/png": "[encoded data removed]",
      "text/plain": [
       "<matplotlib.figure.Figure at 0x262392615c0>"
      ]
     },
     "metadata": {},
     "output_type": "display_data"
    }
   ],
   "source": [
    "X_recovered_less = pca.inverse_transform(X_reduced_less)\n",
    "new_digit_less = X_recovered_less[36000]\n",
    "new_digit_image_less = new_digit_less.reshape(28, 28)\n",
    "plt.imshow(new_digit_image_less, cmap = matplotlib.cm.binary, interpolation= \"nearest\")\n",
    "plt.axis(\"off\")\n",
    "plt.show()"
   ]
  },
  {
   "cell_type": "markdown",
   "metadata": {},
   "source": [
    "### 6. Discussion\n",
    "#### By trying to applying PCA to the MNIST dataset while preserving 95% of its variance, the dataset is now less than 20% of its original size. Furthermore, by reduce the number of digits of the elements in code c, one can consistently shrink the size of the dataset without losing the core features of the images."
   ]
  }
 ],
 "metadata": {
  "kernelspec": {
   "display_name": "Python 3",
   "language": "python",
   "name": "python3"
  },
  "language_info": {
   "codemirror_mode": {
    "name": "ipython",
    "version": 3
   },
   "file_extension": ".py",
   "mimetype": "text/x-python",
   "name": "python",
   "nbconvert_exporter": "python",
   "pygments_lexer": "ipython3",
   "version": "3.6.3"
  }
 },
 "nbformat": 4,
 "nbformat_minor": 2
}
