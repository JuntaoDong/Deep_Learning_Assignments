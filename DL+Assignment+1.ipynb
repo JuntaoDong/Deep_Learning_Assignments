{
 "cells": [
  {
   "cell_type": "markdown",
   "metadata": {},
   "source": [
    "# Deep learning homework assignment 1\n",
    "## Juntao Dong"
   ]
  },
  {
   "cell_type": "markdown",
   "metadata": {},
   "source": [
    "### 1. Fetch MNIST dataset from mldata.org"
   ]
  },
  {
   "cell_type": "code",
   "execution_count": 51,
   "metadata": {
    "collapsed": true
   },
   "outputs": [],
   "source": [
    "from sklearn.datasets import fetch_mldata\n",
    "mnist = fetch_mldata('MNIST original')\n",
    "X, y = mnist[\"data\"], mnist[\"target\"]\n",
    "X_train, X_test, y_train, y_test = X[:60000], X[60000:], y[:60000], y[60000:]"
   ]
  },
  {
   "cell_type": "markdown",
   "metadata": {},
   "source": [
    "### 2. Show the original images of some digits"
   ]
  },
  {
   "cell_type": "code",
   "execution_count": 52,
   "metadata": {},
   "outputs": [
    {
     "data": {
      "image/png": "[encoded data removed]",
      "text/plain": [
       "<matplotlib.figure.Figure at 0x21f82a7f5f8>"
      ]
     },
     "metadata": {},
     "output_type": "display_data"
    }
   ],
   "source": [
    "import matplotlib\n",
    "import matplotlib.pyplot as plt\n",
    "\n",
    "some_digit = X[36000]\n",
    "some_digit_image = some_digit.reshape(28, 28)\n",
    "\n",
    "plt.imshow(some_digit_image, cmap = matplotlib.cm.binary, interpolation= \"nearest\")\n",
    "plt.axis(\"off\")\n",
    "plt.show()"
   ]
  },
  {
   "cell_type": "markdown",
   "metadata": {},
   "source": [
    "### 3. Using Scikit-Learn for PCA and show the reconstruction result"
   ]
  },
  {
   "cell_type": "code",
   "execution_count": 53,
   "metadata": {
    "scrolled": true
   },
   "outputs": [
    {
     "data": {
      "image/png": "[encoded data removed]",
      "text/plain": [
       "<matplotlib.figure.Figure at 0x21f82aac7b8>"
      ]
     },
     "metadata": {},
     "output_type": "display_data"
    }
   ],
   "source": [
    "from sklearn.decomposition import PCA\n",
    "\n",
    "pca = PCA(n_components = 154)\n",
    "X_reduced = pca.fit_transform(X_train) #code c\n",
    "X_recovered = pca.inverse_transform(X_reduced)\n",
    "new_digit = X_recovered[36000]\n",
    "new_digit_image = new_digit.reshape(28, 28)\n",
    "plt.imshow(new_digit_image, cmap = matplotlib.cm.binary, interpolation= \"nearest\")\n",
    "plt.axis(\"off\")\n",
    "plt.show()"
   ]
  },
  {
   "cell_type": "markdown",
   "metadata": {},
   "source": [
    "### 4. Show the code c for the image"
   ]
  },
  {
   "cell_type": "code",
   "execution_count": 54,
   "metadata": {},
   "outputs": [
    {
     "name": "stdout",
     "output_type": "stream",
     "text": [
      "[ -82.14892928 -110.68048718  713.55853138 -432.55579724 -403.33370633\n",
      "  -41.05560175    3.61898117  857.47916907  304.24303124  122.47098787\n",
      "  -42.51072085  105.48143821  -38.28936376   92.52599334  653.462602\n",
      "   91.80331392 -207.85749082 -194.51073082  -97.77796049  249.26403473\n",
      "  -55.92697951  111.39787087    6.15271684   27.58727036  -73.93091105\n",
      " -202.30442377  -45.44769617  251.60114279  349.36837809 -151.18609328\n",
      " -408.37965977   20.62221123   18.36357675   20.56379766  235.04710776\n",
      "  -30.61200569   86.92841284 -195.87278863  111.94002356   46.760906\n",
      "  105.52224349  151.1909292  -191.31998068   78.62828917 -118.18445932\n",
      "  231.62862609 -106.14856657 -140.83723054  -14.01876813   87.58360199\n",
      "  -15.9850983  -167.76666999   59.0500229    66.84327623  -62.57298627\n",
      " -107.68311662   76.28650842  -69.274143     25.91097105  134.35099685\n",
      "   13.31253404  119.47396897  170.94620111 -125.98793657   14.90120742\n",
      " -161.99227393    6.05051176   91.41511655   93.63253156  -37.87268358\n",
      " -182.76129924  -37.29049292  133.94180375 -116.10801281    1.80914498\n",
      " -144.99137276 -152.15672392   22.51986161   64.20720534   22.56915334\n",
      "   24.61724316  106.15675457  -59.55317953    1.28165637   41.97836397\n",
      "   67.7297502  -119.74602622    2.7775462   -80.21946542   40.08814235\n",
      "   46.63445785  -34.18974183   -9.50445254   -5.48160901  -44.2407805\n",
      "   46.94799306   80.20927562   36.19081971  -18.10556762  -23.35932499\n",
      "   38.86610311    1.64099564    8.03428574  -78.52048865   47.84160073\n",
      "   43.15130347   19.86946324  -10.45238425    8.66102403   57.49486373\n",
      "  -25.38059913    4.76986721    4.49993776   48.61617151   -3.96035588\n",
      " -130.60198722   46.37653291   30.85485598  -82.1002171   -16.86696078\n",
      "  -63.41753144   -1.71412341   40.91410416   -7.24703665  -31.91792\n",
      "   64.46142162   19.65863559   58.9067103   -71.16116582    2.99175974\n",
      "  -15.50188165  -30.23021306  -44.06876848   -1.19791365    7.22564212\n",
      "   53.26302051   68.81361523   14.21622351  -10.7491187    53.69468536\n",
      "   70.83147012   13.30751116  -12.23374739  -34.7053595    13.01059081\n",
      "   22.67925931    2.66246569   44.5903036    32.62974701  -40.29662275\n",
      "   -2.81547172  -32.51012566   -4.83083876  -21.69360771]\n"
     ]
    }
   ],
   "source": [
    "print(X_reduced[36000])"
   ]
  },
  {
   "cell_type": "markdown",
   "metadata": {},
   "source": [
    "#### The feature of the code c elements is obvious. The number of bits for the elements are too many and therefore take too much memory to run the program."
   ]
  },
  {
   "cell_type": "markdown",
   "metadata": {},
   "source": [
    "### 5. Reduce the number of bits for code c to a few bits and see the reconstruction"
   ]
  },
  {
   "cell_type": "code",
   "execution_count": 55,
   "metadata": {},
   "outputs": [
    {
     "name": "stdout",
     "output_type": "stream",
     "text": [
      "[ -82.25 -110.75  713.5  -432.5  -403.25  -41.      3.5   857.5   304.25\n",
      "  122.5   -42.5   105.5   -38.25   92.5   653.5    91.75 -207.75 -194.5\n",
      "  -97.75  249.25  -56.    111.5     6.25   27.5   -74.   -202.25  -45.5\n",
      "  251.5   349.25 -151.25 -408.5    20.5    18.25   20.5   235.    -30.5\n",
      "   87.   -195.75  112.     46.75  105.5   151.25 -191.25   78.75 -118.25\n",
      "  231.75 -106.25 -140.75  -14.     87.5   -16.   -167.75   59.     66.75\n",
      "  -62.5  -107.75   76.25  -69.25   26.    134.25   13.25  119.5   171.\n",
      " -126.     15.   -162.      6.     91.5    93.75  -37.75 -182.75  -37.25\n",
      "  134.   -116.      1.75 -145.   -152.25   22.5    64.25   22.5    24.5\n",
      "  106.25  -59.5     1.25   42.     67.75 -119.75    2.75  -80.25   40.\n",
      "   46.75  -34.25   -9.5    -5.5   -44.25   47.     80.25   36.25  -18.\n",
      "  -23.25   38.75    1.75    8.    -78.5    47.75   43.25   19.75  -10.5\n",
      "    8.75   57.5   -25.5     4.75    4.5    48.5    -4.   -130.5    46.5\n",
      "   30.75  -82.    -16.75  -63.5    -1.75   41.     -7.25  -32.     64.5\n",
      "   19.75   59.    -71.25    3.    -15.5   -30.25  -44.     -1.25    7.25\n",
      "   53.25   68.75   14.25  -10.75   53.75   70.75   13.25  -12.25  -34.75\n",
      "   13.     22.75    2.75   44.5    32.75  -40.25   -2.75  -32.5    -4.75\n",
      "  -21.75]\n"
     ]
    }
   ],
   "source": [
    "import numpy as np\n",
    "X_reduced_less = np.round(X_reduced * 4, 0) / 4.0\n",
    "print(X_reduced_less[36000])"
   ]
  },
  {
   "cell_type": "code",
   "execution_count": 56,
   "metadata": {},
   "outputs": [
    {
     "data": {
      "image/png": "[encoded data removed]",
      "text/plain": [
       "<matplotlib.figure.Figure at 0x21f828b5b00>"
      ]
     },
     "metadata": {},
     "output_type": "display_data"
    }
   ],
   "source": [
    "X_recovered_less = pca.inverse_transform(X_reduced_less)\n",
    "new_digit_less = X_recovered_less[36000]\n",
    "new_digit_image_less = new_digit_less.reshape(28, 28)\n",
    "plt.imshow(new_digit_image_less, cmap = matplotlib.cm.binary, interpolation= \"nearest\")\n",
    "plt.axis(\"off\")\n",
    "plt.show()"
   ]
  },
  {
   "cell_type": "markdown",
   "metadata": {},
   "source": [
    "### 6. Discussion\n",
    "#### By trying to applying PCA to the MNIST dataset while preserving 95% of its variance, the dataset is now less than 20% of its original size. Furthermore, by reduce the number of digits of the elements in code c, one can consistently shrink the size of the dataset without losing the core features of the images."
   ]
  }
 ],
 "metadata": {
  "kernelspec": {
   "display_name": "Python 3",
   "language": "python",
   "name": "python3"
  },
  "language_info": {
   "codemirror_mode": {
    "name": "ipython",
    "version": 3
   },
   "file_extension": ".py",
   "mimetype": "text/x-python",
   "name": "python",
   "nbconvert_exporter": "python",
   "pygments_lexer": "ipython3",
   "version": "3.6.3"
  }
 },
 "nbformat": 4,
 "nbformat_minor": 2
}
