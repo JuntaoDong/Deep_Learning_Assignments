{
 "cells": [
  {
   "cell_type": "raw",
   "metadata": {},
   "source": [
    "Juntao Dong"
   ]
  },
  {
   "cell_type": "markdown",
   "metadata": {},
   "source": [
    "# Fetch MNIST dataset from mldata.org"
   ]
  },
  {
   "cell_type": "code",
   "execution_count": 1,
   "metadata": {
    "collapsed": true
   },
   "outputs": [],
   "source": [
    "from sklearn.datasets import fetch_mldata\n",
    "mnist = fetch_mldata('MNIST original')\n",
    "X, y = mnist[\"data\"], mnist[\"target\"]\n",
    "X_train, X_test, y_train, y_test = X[:60000], X[60000:], y[:60000], y[60000:]"
   ]
  },
  {
   "cell_type": "markdown",
   "metadata": {},
   "source": [
    "# Show the original images of some digits"
   ]
  },
  {
   "cell_type": "code",
   "execution_count": 2,
   "metadata": {},
   "outputs": [
    {
     "data": {
      "image/png": "[encoded data removed]",
      "text/plain": [
       "<matplotlib.figure.Figure at 0x17a6d918390>"
      ]
     },
     "metadata": {},
     "output_type": "display_data"
    }
   ],
   "source": [
    "import matplotlib\n",
    "import matplotlib.pyplot as plt\n",
    "import random\n",
    "\n",
    "a = random.randint(1,60000)\n",
    "some_digit = X[a]\n",
    "some_digit_image = some_digit.reshape(28, 28)\n",
    "\n",
    "plt.imshow(some_digit_image, cmap = matplotlib.cm.binary, interpolation= \"nearest\")\n",
    "plt.axis(\"off\")\n",
    "plt.show()"
   ]
  },
  {
   "cell_type": "markdown",
   "metadata": {},
   "source": [
    "# Using Scikit-Learn for PCA and show the reconstruction result"
   ]
  },
  {
   "cell_type": "code",
   "execution_count": 3,
   "metadata": {
    "scrolled": true
   },
   "outputs": [
    {
     "data": {
      "image/png": "[encoded data removed]",
      "text/plain": [
       "<matplotlib.figure.Figure at 0x17a72dff4e0>"
      ]
     },
     "metadata": {},
     "output_type": "display_data"
    }
   ],
   "source": [
    "from sklearn.decomposition import PCA\n",
    "\n",
    "pca = PCA(n_components = 154)\n",
    "X_reduced = pca.fit_transform(X_train) #code c\n",
    "X_recovered = pca.inverse_transform(X_reduced)\n",
    "new_digit = X_recovered[a]\n",
    "new_digit_image = new_digit.reshape(28, 28)\n",
    "plt.imshow(new_digit_image, cmap = matplotlib.cm.binary, interpolation= \"nearest\")\n",
    "plt.axis(\"off\")\n",
    "plt.show()"
   ]
  },
  {
   "cell_type": "markdown",
   "metadata": {},
   "source": [
    "# Show the code c for the image"
   ]
  },
  {
   "cell_type": "code",
   "execution_count": 4,
   "metadata": {},
   "outputs": [
    {
     "name": "stdout",
     "output_type": "stream",
     "text": [
      "[ -1.12941487e+01   2.18386136e+02  -2.99708045e+02   1.07173426e+03\n",
      "  -1.81962929e+01  -1.01455220e+02  -2.09592689e+02  -1.98845204e+02\n",
      "   2.05946278e+02  -2.98007539e+02   1.44028799e+02   2.67916318e+02\n",
      "  -6.53017816e+01  -3.29494741e+01   2.66343790e+01   1.55510922e+02\n",
      "   4.66170490e+02   1.62541223e+02   4.47921712e+02   2.20595559e+02\n",
      "   2.91621788e+02  -8.64121412e+01   1.57242102e+02   8.41759857e+01\n",
      "  -9.59289689e+01  -2.46013208e+02  -1.67233153e+02  -1.02304732e+02\n",
      "  -6.14859511e+01   1.62324937e+00   1.86390567e+02  -2.65351709e+02\n",
      "   2.03873815e+02   6.53879649e+00   2.90829616e+00   3.29353422e-01\n",
      "   6.05671666e+01   8.39494858e+01  -4.22429699e+02  -4.09928378e+01\n",
      "  -1.18652900e+02  -6.85378648e+01  -3.42563066e+02  -1.49246654e+02\n",
      "   3.57497469e+01  -1.16294919e+02   2.09426640e+02   4.43684944e+01\n",
      "  -1.83765484e+02  -5.32555852e+01   1.03655563e+02  -1.75836618e+02\n",
      "   4.10043279e+01   6.97092617e+01  -5.18665065e+01  -2.86554170e+01\n",
      "   1.23837523e+02  -3.07474142e+02   7.80520314e+01  -2.03954740e+01\n",
      "   1.94229149e+02   1.14139173e+02  -1.44897473e+02  -2.18886783e+01\n",
      "   1.37822224e+02  -6.86946507e+01   8.14663157e+01   8.35480491e+01\n",
      "  -2.06210000e+02   7.12167716e+01   8.35602076e+00  -2.29955749e+02\n",
      "  -9.68172835e+01   4.56784510e+01   1.56966798e+02  -6.99914836e+01\n",
      "   3.35539050e+01  -2.99761020e+01   1.46258904e+02   3.03731624e+01\n",
      "   7.05298552e+01   6.27057169e+01   2.85983472e+01  -2.61108587e+01\n",
      "   4.21508218e+01  -9.38058777e+01  -8.67354004e+01  -1.68854598e+02\n",
      "  -1.09282677e+01   1.06254464e+02   3.67254608e+01  -4.03872732e+01\n",
      "   1.06519051e+02  -6.64610595e+01  -7.25712361e+01   7.80027522e+01\n",
      "   5.26538742e+01   1.15193398e+02  -1.65588054e+02  -5.37632032e+01\n",
      "  -1.26869718e+02   1.83121312e+01   3.02711531e+01   2.54314259e+01\n",
      "  -2.81863122e+01  -3.75191819e+01  -1.81123794e+02  -7.72175906e+00\n",
      "   1.20466350e+02   5.02357345e+01   1.37981328e+01  -9.94489122e+00\n",
      "   5.65454307e+00  -2.20209224e+01   7.72453247e+01   3.29226501e+01\n",
      "  -1.50844353e+01  -4.79536936e+00   1.77687343e+01   4.80601679e+01\n",
      "  -5.56762426e+01  -1.08627290e+02   2.02579195e+01   3.83109287e+01\n",
      "   8.86889545e+01  -4.63967806e+01   7.98398341e+01  -5.05692204e+01\n",
      "   8.32287349e+01  -3.36311372e+01   2.64544264e+01  -4.11921718e+01\n",
      "   2.32554783e+01  -1.89588000e+01   5.19710791e+00   6.67083497e+01\n",
      "   1.26351097e+01   1.03164887e+02  -1.33278084e+02  -8.72104107e+01\n",
      "   8.95903206e+01   5.36093047e+01  -6.34294679e+00  -6.43030039e+01\n",
      "  -4.52836708e+01  -6.07416372e+01   5.42168055e+01  -4.30474276e+01\n",
      "   2.40058854e+01  -8.19585384e+01   4.71208222e+01  -8.73479090e+01\n",
      "   3.00964218e+01  -2.60572953e+01]\n"
     ]
    }
   ],
   "source": [
    "print(X_reduced[a])"
   ]
  },
  {
   "cell_type": "markdown",
   "metadata": {},
   "source": [
    "The feature of the code c elements is obvious. The number of bits for the elements are too many and therefore take too much memory to run the program."
   ]
  },
  {
   "cell_type": "markdown",
   "metadata": {},
   "source": [
    "# Reduce the number of bits for code c to a few bits and see the reconstruction"
   ]
  },
  {
   "cell_type": "code",
   "execution_count": 5,
   "metadata": {},
   "outputs": [
    {
     "name": "stdout",
     "output_type": "stream",
     "text": [
      "[ -1.12500000e+01   2.18500000e+02  -2.99750000e+02   1.07175000e+03\n",
      "  -1.82500000e+01  -1.01500000e+02  -2.09500000e+02  -1.98750000e+02\n",
      "   2.06000000e+02  -2.98000000e+02   1.44000000e+02   2.68000000e+02\n",
      "  -6.52500000e+01  -3.30000000e+01   2.67500000e+01   1.55500000e+02\n",
      "   4.66250000e+02   1.62500000e+02   4.48000000e+02   2.20500000e+02\n",
      "   2.91500000e+02  -8.65000000e+01   1.57250000e+02   8.42500000e+01\n",
      "  -9.60000000e+01  -2.46000000e+02  -1.67250000e+02  -1.02250000e+02\n",
      "  -6.15000000e+01   1.50000000e+00   1.86500000e+02  -2.65250000e+02\n",
      "   2.03750000e+02   6.50000000e+00   3.00000000e+00   2.50000000e-01\n",
      "   6.05000000e+01   8.40000000e+01  -4.22500000e+02  -4.10000000e+01\n",
      "  -1.18750000e+02  -6.85000000e+01  -3.42500000e+02  -1.49250000e+02\n",
      "   3.57500000e+01  -1.16250000e+02   2.09500000e+02   4.42500000e+01\n",
      "  -1.83750000e+02  -5.32500000e+01   1.03750000e+02  -1.75750000e+02\n",
      "   4.10000000e+01   6.97500000e+01  -5.17500000e+01  -2.87500000e+01\n",
      "   1.23750000e+02  -3.07500000e+02   7.80000000e+01  -2.05000000e+01\n",
      "   1.94250000e+02   1.14250000e+02  -1.45000000e+02  -2.20000000e+01\n",
      "   1.37750000e+02  -6.87500000e+01   8.15000000e+01   8.35000000e+01\n",
      "  -2.06250000e+02   7.12500000e+01   8.25000000e+00  -2.30000000e+02\n",
      "  -9.67500000e+01   4.57500000e+01   1.57000000e+02  -7.00000000e+01\n",
      "   3.35000000e+01  -3.00000000e+01   1.46250000e+02   3.02500000e+01\n",
      "   7.05000000e+01   6.27500000e+01   2.85000000e+01  -2.60000000e+01\n",
      "   4.22500000e+01  -9.37500000e+01  -8.67500000e+01  -1.68750000e+02\n",
      "  -1.10000000e+01   1.06250000e+02   3.67500000e+01  -4.05000000e+01\n",
      "   1.06500000e+02  -6.65000000e+01  -7.25000000e+01   7.80000000e+01\n",
      "   5.27500000e+01   1.15250000e+02  -1.65500000e+02  -5.37500000e+01\n",
      "  -1.26750000e+02   1.82500000e+01   3.02500000e+01   2.55000000e+01\n",
      "  -2.82500000e+01  -3.75000000e+01  -1.81000000e+02  -7.75000000e+00\n",
      "   1.20500000e+02   5.02500000e+01   1.37500000e+01  -1.00000000e+01\n",
      "   5.75000000e+00  -2.20000000e+01   7.72500000e+01   3.30000000e+01\n",
      "  -1.50000000e+01  -4.75000000e+00   1.77500000e+01   4.80000000e+01\n",
      "  -5.57500000e+01  -1.08750000e+02   2.02500000e+01   3.82500000e+01\n",
      "   8.87500000e+01  -4.65000000e+01   7.97500000e+01  -5.05000000e+01\n",
      "   8.32500000e+01  -3.37500000e+01   2.65000000e+01  -4.12500000e+01\n",
      "   2.32500000e+01  -1.90000000e+01   5.25000000e+00   6.67500000e+01\n",
      "   1.27500000e+01   1.03250000e+02  -1.33250000e+02  -8.72500000e+01\n",
      "   8.95000000e+01   5.35000000e+01  -6.25000000e+00  -6.42500000e+01\n",
      "  -4.52500000e+01  -6.07500000e+01   5.42500000e+01  -4.30000000e+01\n",
      "   2.40000000e+01  -8.20000000e+01   4.70000000e+01  -8.72500000e+01\n",
      "   3.00000000e+01  -2.60000000e+01]\n"
     ]
    }
   ],
   "source": [
    "import numpy as np\n",
    "X_reduced_less = np.round(X_reduced * 4, decimals = 0) / 4.0\n",
    "print(X_reduced_less[a])"
   ]
  },
  {
   "cell_type": "code",
   "execution_count": 6,
   "metadata": {},
   "outputs": [
    {
     "data": {
      "image/png": "[encoded data removed]",
      "text/plain": [
       "<matplotlib.figure.Figure at 0x17a729112b0>"
      ]
     },
     "metadata": {},
     "output_type": "display_data"
    }
   ],
   "source": [
    "X_recovered_less = pca.inverse_transform(X_reduced_less)\n",
    "new_digit_less = X_recovered_less[a]\n",
    "new_digit_image_less = new_digit_less.reshape(28, 28)\n",
    "plt.imshow(new_digit_image_less, cmap = matplotlib.cm.binary, interpolation= \"nearest\")\n",
    "plt.axis(\"off\")\n",
    "plt.show()"
   ]
  },
  {
   "cell_type": "markdown",
   "metadata": {},
   "source": [
    "# Discussion"
   ]
  },
  {
   "cell_type": "code",
   "execution_count": 7,
   "metadata": {},
   "outputs": [
    {
     "data": {
      "image/png": "[encoded data removed]",
      "text/plain": [
       "<matplotlib.figure.Figure at 0x17a742f19b0>"
      ]
     },
     "metadata": {},
     "output_type": "display_data"
    }
   ],
   "source": [
    "plt.subplot(1,3,1)\n",
    "plt.title(\"Original image\")\n",
    "plt.imshow(some_digit_image, cmap = matplotlib.cm.binary, interpolation= \"nearest\")\n",
    "plt.axis(\"off\")\n",
    "\n",
    "plt.subplot(1,3,2)\n",
    "plt.title(\"Reconstructed image\")\n",
    "plt.imshow(new_digit_image, cmap = matplotlib.cm.binary, interpolation= \"nearest\")\n",
    "plt.axis(\"off\")\n",
    "\n",
    "plt.subplot(1,3,3)\n",
    "plt.title(\"Further reconstructed image\")\n",
    "plt.imshow(new_digit_image_less, cmap = matplotlib.cm.binary, interpolation= \"nearest\")\n",
    "plt.axis(\"off\")\n",
    "plt.show()"
   ]
  },
  {
   "cell_type": "markdown",
   "metadata": {},
   "source": [
    "By trying to applying PCA to the MNIST dataset while preserving 95% of its variance, the dataset is now less than 20% of its original size. Furthermore, by reduce the number of digits of the elements in code c, one can consistently shrink the size of the dataset without losing the core features of the images."
   ]
  }
 ],
 "metadata": {
  "author": {
   "affiliation": "University of Cincinnati",
   "email": "dongjt@mail.uc.edu",
   "name": "Dong, Juntao"
  },
  "kernelspec": {
   "display_name": "Python 3",
   "language": "python",
   "name": "python3"
  },
  "language_info": {
   "codemirror_mode": {
    "name": "ipython",
    "version": 3
   },
   "file_extension": ".py",
   "mimetype": "text/x-python",
   "name": "python",
   "nbconvert_exporter": "python",
   "pygments_lexer": "ipython3",
   "version": "3.6.3"
  }
 },
 "nbformat": 4,
 "nbformat_minor": 2
}
